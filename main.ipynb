{
 "cells": [
  {
   "cell_type": "code",
   "execution_count": null,
   "id": "1ff918bf-0ca9-431b-b869-60428eab9151",
   "metadata": {},
   "outputs": [],
   "source": [
    "import glob\n",
    "from collections import Counter"
   ]
  },
  {
   "cell_type": "code",
   "execution_count": null,
   "id": "aa5abe7e-306e-4c69-8513-c2d5ecca8d11",
   "metadata": {},
   "outputs": [],
   "source": [
    "import pandas as pd\n",
    "import numpy as np"
   ]
  },
  {
   "cell_type": "code",
   "execution_count": null,
   "id": "3a4e8456-5864-4625-825e-eca7c7c4df8f",
   "metadata": {},
   "outputs": [],
   "source": [
    "pd.set_option('display.max_columns', None)"
   ]
  },
  {
   "cell_type": "markdown",
   "id": "a51e23ad-a022-4369-b386-2650c703d721",
   "metadata": {},
   "source": [
    "## Process GPT Grades"
   ]
  },
  {
   "cell_type": "code",
   "execution_count": null,
   "id": "c4c50913-8785-4fe8-902f-6e5660871934",
   "metadata": {},
   "outputs": [],
   "source": [
    "def try_parse_gpt(s):\n",
    "    try:\n",
    "        return int(s[0]) if isinstance(s, str) else 0 if pd.isna(s) else int(s)\n",
    "    except:\n",
    "        return 0"
   ]
  },
  {
   "cell_type": "code",
   "execution_count": null,
   "id": "fba2543a-93a7-4ffd-a5e0-1701cbb035cc",
   "metadata": {},
   "outputs": [],
   "source": [
    "d_gpt_grade = dict()\n",
    "for f in glob.glob('gpt4o-grades/*.csv'):\n",
    "    tmp = pd.read_csv(f)\n",
    "    for _, row in tmp.iterrows():\n",
    "        d_gpt_grade[row['Transaction Id']] = try_parse_gpt(row['GPT-4o Score'])"
   ]
  },
  {
   "cell_type": "markdown",
   "id": "d1eb02e2-1265-42f2-8c23-3ed80d6d7980",
   "metadata": {},
   "source": [
    "## Condition References"
   ]
  },
  {
   "cell_type": "code",
   "execution_count": null,
   "id": "94b38d12-f07c-4ae8-9996-db5a2e4ac8a1",
   "metadata": {},
   "outputs": [],
   "source": [
    "df_condition = pd.read_csv('PLUS Lesson Versions by Anon Id - All Lessons.csv')\n",
    "df_condition = df_condition.dropna(subset=['Anon Student Id', 'Lesson']).copy()\n",
    "df_condition.rename(columns={\n",
    "    'Tutors Assigned AI Condition ': 'ai_condition_merged',\n",
    "    'Lesson': 'Level (Lesson)'\n",
    "}, inplace=True)\n",
    "df_condition = df_condition.drop_duplicates(subset=['Anon Student Id', 'Level (Lesson)'], keep='first')"
   ]
  },
  {
   "cell_type": "markdown",
   "id": "e955ed93-419a-413c-822d-5518c00e7be0",
   "metadata": {},
   "source": [
    "## Lesson Logs"
   ]
  },
  {
   "cell_type": "code",
   "execution_count": null,
   "id": "cf9847ee-715e-4fad-8ef0-3f6a923068df",
   "metadata": {},
   "outputs": [],
   "source": [
    "dfs = []\n",
    "for f in glob.glob('lesson-data/*.csv'):\n",
    "    tmp = pd.read_csv(f, low_memory=False)\n",
    "    dfs.append(tmp)\n",
    "df = pd.concat(dfs)"
   ]
  },
  {
   "cell_type": "code",
   "execution_count": null,
   "id": "7b2806df-7424-4738-a07b-42000f2c9def",
   "metadata": {},
   "outputs": [],
   "source": [
    "df['GPT4o Score'] = df['Transaction Id'].map(d_gpt_grade)"
   ]
  },
  {
   "cell_type": "code",
   "execution_count": null,
   "id": "7762a549-f9d7-4d86-b07b-7e872464a74a",
   "metadata": {},
   "outputs": [],
   "source": [
    "df['Log Score'] = df.Outcome.map(lambda s: np.nan if not isinstance(s, str) else 1 if s=='CORRECT' else 0)"
   ]
  },
  {
   "cell_type": "code",
   "execution_count": null,
   "id": "ed304086-f148-4cc2-9b36-df6113ccac85",
   "metadata": {},
   "outputs": [],
   "source": [
    "df['score'] = df['GPT4o Score'].combine_first(df['Log Score'])"
   ]
  },
  {
   "cell_type": "code",
   "execution_count": null,
   "id": "c9f9d86f-9cc8-4e98-9942-36ecb7cd40bc",
   "metadata": {},
   "outputs": [],
   "source": [
    "df = df.merge(df_condition, how='left', on=['Anon Student Id', 'Level (Lesson)']).copy()"
   ]
  },
  {
   "cell_type": "markdown",
   "id": "1e08e144-1bd8-4cba-8ae5-63dc1f563abd",
   "metadata": {},
   "source": [
    "## Searching and Removing Test Accounts"
   ]
  },
  {
   "cell_type": "code",
   "execution_count": null,
   "id": "b9ca297e-2e2e-4da0-afc7-a7f4d20f57f4",
   "metadata": {},
   "outputs": [],
   "source": [
    "tmp = df[df['GPT4o Score'].map(lambda s: not pd.isna(s))].copy()\n",
    "remove_ids = set(tmp[tmp['Input'].map(lambda s: len(s) if isinstance(s, str) else np.nan) < 10]['Anon Student Id'])\n",
    "df = df[df['Anon Student Id'].map(lambda s: s not in remove_ids)].copy()"
   ]
  },
  {
   "cell_type": "markdown",
   "id": "2baf2faf-b5bf-40d4-9918-278f0d9303ff",
   "metadata": {},
   "source": [
    "## RQ3 Tutor Rating of Feedback"
   ]
  },
  {
   "cell_type": "code",
   "execution_count": null,
   "id": "bf22f22c-d621-4375-85fa-66537541b96e",
   "metadata": {},
   "outputs": [],
   "source": [
    "df_rq3 = df[(df['Action'] == 'RateAIFeedback') & (df['Is Last Attempt'] == 1)]"
   ]
  },
  {
   "cell_type": "code",
   "execution_count": null,
   "id": "f49a8370-5622-45a9-b0af-f50010cda3d8",
   "metadata": {},
   "outputs": [],
   "source": [
    "df_rq3.shape[0]"
   ]
  },
  {
   "cell_type": "code",
   "execution_count": null,
   "id": "eb930e60-3135-40b8-bd38-2a945be780e7",
   "metadata": {},
   "outputs": [],
   "source": [
    "df_rq3.Input.value_counts()"
   ]
  },
  {
   "cell_type": "code",
   "execution_count": null,
   "id": "f8c43be3-c1d4-43d0-8287-e88fe1ece482",
   "metadata": {},
   "outputs": [],
   "source": [
    "round((df_rq3.Input.value_counts()*100)/df_rq3.shape[0], 2)"
   ]
  },
  {
   "cell_type": "markdown",
   "id": "3abf1723-279f-4787-ad30-89f34130c77e",
   "metadata": {},
   "source": [
    "## Export for Analysis"
   ]
  },
  {
   "cell_type": "code",
   "execution_count": null,
   "id": "0e2c70a5-3572-4fbb-b095-a7901ca2c7d0",
   "metadata": {},
   "outputs": [],
   "source": [
    "df = df[\n",
    "    (df['Is Last Attempt']==1)\n",
    "].copy()\n",
    "\n",
    "df['posttest'] = df['Problem Name'].map(lambda s: s.split('.')[0] in ['9', '10', '11', '12'])\n",
    "df['lesson'] = df['Level (Lesson)']\n",
    "df['student_id'] = df['Anon Student Id']\n",
    "df['ai_condition'] = df['ai_condition_merged']\n",
    "df['response_condition'] = df['CF (Condition)']\n",
    "df['question_type'] = df['Problem Name'].map(lambda s: 'predict' if s.split('.')[0] in ['9', '10'] else 'explain')\n",
    "df['response_type'] = df['Problem Name'].map(lambda s: 'generated' if s.split('.')[0] in ['9', '11'] else 'selected')"
   ]
  },
  {
   "cell_type": "code",
   "execution_count": null,
   "id": "fe4fb6b0-c778-4baa-b1bb-86755f63bc19",
   "metadata": {},
   "outputs": [],
   "source": [
    "df.to_csv('full_sample_logs_ectel25.csv', index=False)"
   ]
  },
  {
   "cell_type": "markdown",
   "id": "a1a519a4-da98-4cfe-bb32-61dc5987569f",
   "metadata": {},
   "source": [
    "## ToT Reference"
   ]
  },
  {
   "cell_type": "code",
   "execution_count": null,
   "id": "bcd86523-a20f-40ba-ae8e-5ac63c9e463c",
   "metadata": {},
   "outputs": [],
   "source": [
    "def try_parse_status(s):\n",
    "    try:\n",
    "        return int(s[0])\n",
    "    except:\n",
    "        try:\n",
    "            return int(s)\n",
    "        except:\n",
    "            return s"
   ]
  },
  {
   "cell_type": "code",
   "execution_count": null,
   "id": "cf3e8474-3a21-4ee4-bd2d-730b605a49fb",
   "metadata": {},
   "outputs": [],
   "source": [
    "df['CF (AI_Evaluation)'] = df['CF (AI_Evaluation)'].map(try_parse_status)"
   ]
  },
  {
   "cell_type": "code",
   "execution_count": null,
   "id": "d1899258-e85b-4494-a29b-a0157f179353",
   "metadata": {},
   "outputs": [],
   "source": [
    "df_wide = df.groupby(['student_id', 'lesson'])['CF (AI_Evaluation)'].value_counts().reset_index()"
   ]
  },
  {
   "cell_type": "code",
   "execution_count": null,
   "id": "5fb3b85e-1558-496e-a634-015aaa016dfe",
   "metadata": {},
   "outputs": [],
   "source": [
    "df_wide = df_wide.pivot(index=['student_id', 'lesson'], columns='CF (AI_Evaluation)', values='count').reset_index()\n",
    "df_wide.index.name = ''\n",
    "df_wide = df_wide.fillna(0)"
   ]
  },
  {
   "cell_type": "code",
   "execution_count": null,
   "id": "2be15c96-9114-43db-bc48-234345b48f66",
   "metadata": {},
   "outputs": [],
   "source": [
    "# Renaming the columns\n",
    "df_wide = df_wide.rename(columns={1: 'n_received_ai', -1: 'n_error_ai'})\n",
    "\n",
    "# Adding calculated columns\n",
    "df_wide['n_requested_ai'] = df_wide['n_received_ai'] + df_wide['n_error_ai']\n",
    "df_wide['ratio_error'] = df_wide['n_error_ai'] / df_wide['n_requested_ai']"
   ]
  },
  {
   "cell_type": "code",
   "execution_count": null,
   "id": "eaf50941-5744-4a1a-b064-704b000d3533",
   "metadata": {},
   "outputs": [],
   "source": [
    "df_wide.to_csv('ai_usage-ectel2025.csv', index=False)"
   ]
  }
 ],
 "metadata": {
  "kernelspec": {
   "display_name": "Python 3 (ipykernel)",
   "language": "python",
   "name": "python3"
  },
  "language_info": {
   "codemirror_mode": {
    "name": "ipython",
    "version": 3
   },
   "file_extension": ".py",
   "mimetype": "text/x-python",
   "name": "python",
   "nbconvert_exporter": "python",
   "pygments_lexer": "ipython3",
   "version": "3.10.14"
  }
 },
 "nbformat": 4,
 "nbformat_minor": 5
}
